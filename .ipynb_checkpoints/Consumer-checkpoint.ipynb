{
 "cells": [
  {
   "cell_type": "code",
   "execution_count": 18,
   "id": "0c65cd78",
   "metadata": {},
   "outputs": [],
   "source": [
    "import pandas as pd\n",
    "from kafka import KafkaConsumer\n",
    "from json import loads"
   ]
  },
  {
   "cell_type": "code",
   "execution_count": 19,
   "id": "80562d7b",
   "metadata": {},
   "outputs": [],
   "source": [
    "ip_address = \"44.201.184.212:9092\"\n",
    "topic = \"demo_testing2\""
   ]
  },
  {
   "cell_type": "code",
   "execution_count": 20,
   "id": "5cf6221a",
   "metadata": {},
   "outputs": [],
   "source": [
    "consumer = KafkaConsumer(topic,\n",
    "                         bootstrap_servers=ip_address,\n",
    "                        value_deserializer = lambda x:loads(x.decode(\"utf-8\"))\n",
    "                        )"
   ]
  },
  {
   "cell_type": "code",
   "execution_count": null,
   "id": "a699dfd0",
   "metadata": {},
   "outputs": [],
   "source": [
    "for c in consumer:\n",
    "    print(c.value)"
   ]
  },
  {
   "cell_type": "markdown",
   "id": "fadc9b5e",
   "metadata": {},
   "source": [
    "#### store data to s3 bucket"
   ]
  },
  {
   "cell_type": "code",
   "execution_count": 21,
   "id": "b28f8c39",
   "metadata": {},
   "outputs": [],
   "source": [
    "from s3fs import S3FileSystem"
   ]
  },
  {
   "cell_type": "code",
   "execution_count": null,
   "id": "822e1445",
   "metadata": {},
   "outputs": [],
   "source": [
    "for count, i in enumerate(consumer):\n",
    "    print(count)\n",
    "    print(i.value)"
   ]
  }
 ],
 "metadata": {
  "kernelspec": {
   "display_name": "Python 3 (ipykernel)",
   "language": "python",
   "name": "python3"
  },
  "language_info": {
   "codemirror_mode": {
    "name": "ipython",
    "version": 3
   },
   "file_extension": ".py",
   "mimetype": "text/x-python",
   "name": "python",
   "nbconvert_exporter": "python",
   "pygments_lexer": "ipython3",
   "version": "3.10.7"
  }
 },
 "nbformat": 4,
 "nbformat_minor": 5
}
